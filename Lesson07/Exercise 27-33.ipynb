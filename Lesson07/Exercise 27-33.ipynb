{
  "nbformat": 4,
  "nbformat_minor": 0,
  "metadata": {
    "kernelspec": {
      "display_name": "Python 3",
      "language": "python",
      "name": "python3"
    },
    "language_info": {
      "codemirror_mode": {
        "name": "ipython",
        "version": 3
      },
      "file_extension": ".py",
      "mimetype": "text/x-python",
      "name": "python",
      "nbconvert_exporter": "python",
      "pygments_lexer": "ipython3",
      "version": "3.6.5"
    },
    "colab": {
      "name": "Exercise 27-33.ipynb",
      "provenance": []
    }
  },
  "cells": [
    {
      "cell_type": "markdown",
      "metadata": {
        "id": "02CTJAQmD8gj"
      },
      "source": [
        "## Exercise 27"
      ]
    },
    {
      "cell_type": "code",
      "metadata": {
        "id": "au89aH85D8gk"
      },
      "source": [
        "# Removes Warnings\n",
        "import warnings\n",
        "warnings.filterwarnings('ignore')\n",
        "#import the necessary packages\n",
        "import pandas as pd\n",
        "import numpy as np\n",
        "import matplotlib.pyplot as plt\n",
        "import seaborn as sns"
      ],
      "execution_count": null,
      "outputs": []
    },
    {
      "cell_type": "markdown",
      "metadata": {
        "id": "dmrDS0NwD8go"
      },
      "source": [
        "## Reading the data using pandas"
      ]
    },
    {
      "cell_type": "code",
      "metadata": {
        "scrolled": false,
        "id": "ZXpotN0ND8gp",
        "outputId": "70770267-43ce-4437-b214-77c290df7d30",
        "colab": {
          "base_uri": "https://localhost:8080/",
          "height": 194
        }
      },
      "source": [
        "data= pd.read_csv('Churn_Modelling.csv')\n",
        "data.head(5)"
      ],
      "execution_count": null,
      "outputs": [
        {
          "output_type": "execute_result",
          "data": {
            "text/html": [
              "<div>\n",
              "<style scoped>\n",
              "    .dataframe tbody tr th:only-of-type {\n",
              "        vertical-align: middle;\n",
              "    }\n",
              "\n",
              "    .dataframe tbody tr th {\n",
              "        vertical-align: top;\n",
              "    }\n",
              "\n",
              "    .dataframe thead th {\n",
              "        text-align: right;\n",
              "    }\n",
              "</style>\n",
              "<table border=\"1\" class=\"dataframe\">\n",
              "  <thead>\n",
              "    <tr style=\"text-align: right;\">\n",
              "      <th></th>\n",
              "      <th>CustomerId</th>\n",
              "      <th>CredRate</th>\n",
              "      <th>Geography</th>\n",
              "      <th>Gender</th>\n",
              "      <th>Age</th>\n",
              "      <th>Tenure</th>\n",
              "      <th>Balance</th>\n",
              "      <th>Prod Number</th>\n",
              "      <th>HasCrCard</th>\n",
              "      <th>ActMem</th>\n",
              "      <th>EstimatedSalary</th>\n",
              "      <th>Exited</th>\n",
              "    </tr>\n",
              "  </thead>\n",
              "  <tbody>\n",
              "    <tr>\n",
              "      <th>0</th>\n",
              "      <td>15634602</td>\n",
              "      <td>619</td>\n",
              "      <td>France</td>\n",
              "      <td>Female</td>\n",
              "      <td>42.0</td>\n",
              "      <td>2</td>\n",
              "      <td>0.00</td>\n",
              "      <td>1</td>\n",
              "      <td>1</td>\n",
              "      <td>1</td>\n",
              "      <td>101348.88</td>\n",
              "      <td>1</td>\n",
              "    </tr>\n",
              "    <tr>\n",
              "      <th>1</th>\n",
              "      <td>15647311</td>\n",
              "      <td>608</td>\n",
              "      <td>Spain</td>\n",
              "      <td>Female</td>\n",
              "      <td>41.0</td>\n",
              "      <td>1</td>\n",
              "      <td>83807.86</td>\n",
              "      <td>1</td>\n",
              "      <td>0</td>\n",
              "      <td>1</td>\n",
              "      <td>112542.58</td>\n",
              "      <td>0</td>\n",
              "    </tr>\n",
              "    <tr>\n",
              "      <th>2</th>\n",
              "      <td>15619304</td>\n",
              "      <td>502</td>\n",
              "      <td>France</td>\n",
              "      <td>Female</td>\n",
              "      <td>42.0</td>\n",
              "      <td>8</td>\n",
              "      <td>159660.80</td>\n",
              "      <td>3</td>\n",
              "      <td>1</td>\n",
              "      <td>0</td>\n",
              "      <td>113931.57</td>\n",
              "      <td>1</td>\n",
              "    </tr>\n",
              "    <tr>\n",
              "      <th>3</th>\n",
              "      <td>15701354</td>\n",
              "      <td>699</td>\n",
              "      <td>France</td>\n",
              "      <td>Female</td>\n",
              "      <td>39.0</td>\n",
              "      <td>1</td>\n",
              "      <td>0.00</td>\n",
              "      <td>2</td>\n",
              "      <td>0</td>\n",
              "      <td>0</td>\n",
              "      <td>93826.63</td>\n",
              "      <td>0</td>\n",
              "    </tr>\n",
              "    <tr>\n",
              "      <th>4</th>\n",
              "      <td>15737888</td>\n",
              "      <td>850</td>\n",
              "      <td>Spain</td>\n",
              "      <td>Female</td>\n",
              "      <td>43.0</td>\n",
              "      <td>2</td>\n",
              "      <td>125510.82</td>\n",
              "      <td>1</td>\n",
              "      <td>1</td>\n",
              "      <td>1</td>\n",
              "      <td>79084.10</td>\n",
              "      <td>0</td>\n",
              "    </tr>\n",
              "  </tbody>\n",
              "</table>\n",
              "</div>"
            ],
            "text/plain": [
              "   CustomerId  CredRate Geography  ... ActMem  EstimatedSalary  Exited\n",
              "0    15634602       619    France  ...      1        101348.88       1\n",
              "1    15647311       608     Spain  ...      1        112542.58       0\n",
              "2    15619304       502    France  ...      0        113931.57       1\n",
              "3    15701354       699    France  ...      0         93826.63       0\n",
              "4    15737888       850     Spain  ...      1         79084.10       0\n",
              "\n",
              "[5 rows x 12 columns]"
            ]
          },
          "metadata": {
            "tags": []
          },
          "execution_count": 3
        }
      ]
    },
    {
      "cell_type": "code",
      "metadata": {
        "id": "5yJg6_zQD8gt",
        "outputId": "f154b19e-8ef4-4502-966c-02666751ea58",
        "colab": {
          "base_uri": "https://localhost:8080/"
        }
      },
      "source": [
        "len(data)"
      ],
      "execution_count": null,
      "outputs": [
        {
          "output_type": "execute_result",
          "data": {
            "text/plain": [
              "10000"
            ]
          },
          "metadata": {
            "tags": []
          },
          "execution_count": 4
        }
      ]
    },
    {
      "cell_type": "code",
      "metadata": {
        "id": "ZvciPh7mD8gv",
        "outputId": "05dade5e-f5e7-42ff-cce1-15bfe06caf1b",
        "colab": {
          "base_uri": "https://localhost:8080/"
        }
      },
      "source": [
        "data.shape"
      ],
      "execution_count": null,
      "outputs": [
        {
          "output_type": "execute_result",
          "data": {
            "text/plain": [
              "(10000, 12)"
            ]
          },
          "metadata": {
            "tags": []
          },
          "execution_count": 5
        }
      ]
    },
    {
      "cell_type": "markdown",
      "metadata": {
        "id": "MDdTL18ND8gy"
      },
      "source": [
        "## Exercise 28"
      ]
    },
    {
      "cell_type": "markdown",
      "metadata": {
        "id": "zou21ZF-D8gz"
      },
      "source": [
        "## Scrubbing the data"
      ]
    },
    {
      "cell_type": "code",
      "metadata": {
        "id": "LnZpqb5ID8gz",
        "outputId": "a67ebbad-e8d6-4eea-e1f6-ffb33809b20e",
        "colab": {
          "base_uri": "https://localhost:8080/"
        }
      },
      "source": [
        "data.isnull().values.any()"
      ],
      "execution_count": null,
      "outputs": [
        {
          "output_type": "execute_result",
          "data": {
            "text/plain": [
              "True"
            ]
          },
          "metadata": {
            "tags": []
          },
          "execution_count": 6
        }
      ]
    },
    {
      "cell_type": "code",
      "metadata": {
        "scrolled": true,
        "id": "AYulnj6tD8g1",
        "outputId": "c4efd0d9-7198-4451-9c80-9523fd827231",
        "colab": {
          "base_uri": "https://localhost:8080/"
        }
      },
      "source": [
        "#It seems we have some missing values now let us explore what are the columns\n",
        "#having missing values\n",
        "\n",
        "data.isnull().any()\n",
        "\n",
        "## it seems that we have missing values in Gender,age and EstimatedSalary"
      ],
      "execution_count": null,
      "outputs": [
        {
          "output_type": "execute_result",
          "data": {
            "text/plain": [
              "CustomerId         False\n",
              "CredRate           False\n",
              "Geography          False\n",
              "Gender              True\n",
              "Age                 True\n",
              "Tenure             False\n",
              "Balance            False\n",
              "Prod Number        False\n",
              "HasCrCard          False\n",
              "ActMem             False\n",
              "EstimatedSalary     True\n",
              "Exited             False\n",
              "dtype: bool"
            ]
          },
          "metadata": {
            "tags": []
          },
          "execution_count": 7
        }
      ]
    },
    {
      "cell_type": "code",
      "metadata": {
        "id": "kV7Dot-wD8g4",
        "outputId": "1cf5ada5-44b1-4cd1-d5d8-57f0f2eb1a17",
        "colab": {
          "base_uri": "https://localhost:8080/",
          "height": 282
        }
      },
      "source": [
        "data[[\"EstimatedSalary\",\"Age\"]].describe()\n"
      ],
      "execution_count": null,
      "outputs": [
        {
          "output_type": "execute_result",
          "data": {
            "text/html": [
              "<div>\n",
              "<style scoped>\n",
              "    .dataframe tbody tr th:only-of-type {\n",
              "        vertical-align: middle;\n",
              "    }\n",
              "\n",
              "    .dataframe tbody tr th {\n",
              "        vertical-align: top;\n",
              "    }\n",
              "\n",
              "    .dataframe thead th {\n",
              "        text-align: right;\n",
              "    }\n",
              "</style>\n",
              "<table border=\"1\" class=\"dataframe\">\n",
              "  <thead>\n",
              "    <tr style=\"text-align: right;\">\n",
              "      <th></th>\n",
              "      <th>EstimatedSalary</th>\n",
              "      <th>Age</th>\n",
              "    </tr>\n",
              "  </thead>\n",
              "  <tbody>\n",
              "    <tr>\n",
              "      <th>count</th>\n",
              "      <td>9996.000000</td>\n",
              "      <td>9994.000000</td>\n",
              "    </tr>\n",
              "    <tr>\n",
              "      <th>mean</th>\n",
              "      <td>100074.744083</td>\n",
              "      <td>38.925255</td>\n",
              "    </tr>\n",
              "    <tr>\n",
              "      <th>std</th>\n",
              "      <td>57515.774555</td>\n",
              "      <td>10.489248</td>\n",
              "    </tr>\n",
              "    <tr>\n",
              "      <th>min</th>\n",
              "      <td>11.580000</td>\n",
              "      <td>18.000000</td>\n",
              "    </tr>\n",
              "    <tr>\n",
              "      <th>25%</th>\n",
              "      <td>50974.077500</td>\n",
              "      <td>32.000000</td>\n",
              "    </tr>\n",
              "    <tr>\n",
              "      <th>50%</th>\n",
              "      <td>100168.240000</td>\n",
              "      <td>37.000000</td>\n",
              "    </tr>\n",
              "    <tr>\n",
              "      <th>75%</th>\n",
              "      <td>149388.247500</td>\n",
              "      <td>44.000000</td>\n",
              "    </tr>\n",
              "    <tr>\n",
              "      <th>max</th>\n",
              "      <td>199992.480000</td>\n",
              "      <td>92.000000</td>\n",
              "    </tr>\n",
              "  </tbody>\n",
              "</table>\n",
              "</div>"
            ],
            "text/plain": [
              "       EstimatedSalary          Age\n",
              "count      9996.000000  9994.000000\n",
              "mean     100074.744083    38.925255\n",
              "std       57515.774555    10.489248\n",
              "min          11.580000    18.000000\n",
              "25%       50974.077500    32.000000\n",
              "50%      100168.240000    37.000000\n",
              "75%      149388.247500    44.000000\n",
              "max      199992.480000    92.000000"
            ]
          },
          "metadata": {
            "tags": []
          },
          "execution_count": 8
        }
      ]
    },
    {
      "cell_type": "code",
      "metadata": {
        "id": "0nQhFg53D8g7",
        "outputId": "e9a52d43-99a0-4b9f-b17b-edcbef472f0e",
        "colab": {
          "base_uri": "https://localhost:8080/",
          "height": 282
        }
      },
      "source": [
        "data.describe()\n",
        "#### It seems that HasCrCard has value as 0 and 1 hence needs to be changed to category"
      ],
      "execution_count": null,
      "outputs": [
        {
          "output_type": "execute_result",
          "data": {
            "text/html": [
              "<div>\n",
              "<style scoped>\n",
              "    .dataframe tbody tr th:only-of-type {\n",
              "        vertical-align: middle;\n",
              "    }\n",
              "\n",
              "    .dataframe tbody tr th {\n",
              "        vertical-align: top;\n",
              "    }\n",
              "\n",
              "    .dataframe thead th {\n",
              "        text-align: right;\n",
              "    }\n",
              "</style>\n",
              "<table border=\"1\" class=\"dataframe\">\n",
              "  <thead>\n",
              "    <tr style=\"text-align: right;\">\n",
              "      <th></th>\n",
              "      <th>CustomerId</th>\n",
              "      <th>CredRate</th>\n",
              "      <th>Age</th>\n",
              "      <th>Tenure</th>\n",
              "      <th>Balance</th>\n",
              "      <th>Prod Number</th>\n",
              "      <th>HasCrCard</th>\n",
              "      <th>ActMem</th>\n",
              "      <th>EstimatedSalary</th>\n",
              "      <th>Exited</th>\n",
              "    </tr>\n",
              "  </thead>\n",
              "  <tbody>\n",
              "    <tr>\n",
              "      <th>count</th>\n",
              "      <td>1.000000e+04</td>\n",
              "      <td>10000.000000</td>\n",
              "      <td>9994.000000</td>\n",
              "      <td>10000.000000</td>\n",
              "      <td>10000.000000</td>\n",
              "      <td>10000.000000</td>\n",
              "      <td>10000.00000</td>\n",
              "      <td>10000.000000</td>\n",
              "      <td>9996.000000</td>\n",
              "      <td>10000.000000</td>\n",
              "    </tr>\n",
              "    <tr>\n",
              "      <th>mean</th>\n",
              "      <td>1.569094e+07</td>\n",
              "      <td>650.528800</td>\n",
              "      <td>38.925255</td>\n",
              "      <td>5.012800</td>\n",
              "      <td>76485.889288</td>\n",
              "      <td>1.530200</td>\n",
              "      <td>0.70550</td>\n",
              "      <td>0.515100</td>\n",
              "      <td>100074.744083</td>\n",
              "      <td>0.203700</td>\n",
              "    </tr>\n",
              "    <tr>\n",
              "      <th>std</th>\n",
              "      <td>7.193619e+04</td>\n",
              "      <td>96.653299</td>\n",
              "      <td>10.489248</td>\n",
              "      <td>2.892174</td>\n",
              "      <td>62397.405202</td>\n",
              "      <td>0.581654</td>\n",
              "      <td>0.45584</td>\n",
              "      <td>0.499797</td>\n",
              "      <td>57515.774555</td>\n",
              "      <td>0.402769</td>\n",
              "    </tr>\n",
              "    <tr>\n",
              "      <th>min</th>\n",
              "      <td>1.556570e+07</td>\n",
              "      <td>350.000000</td>\n",
              "      <td>18.000000</td>\n",
              "      <td>0.000000</td>\n",
              "      <td>0.000000</td>\n",
              "      <td>1.000000</td>\n",
              "      <td>0.00000</td>\n",
              "      <td>0.000000</td>\n",
              "      <td>11.580000</td>\n",
              "      <td>0.000000</td>\n",
              "    </tr>\n",
              "    <tr>\n",
              "      <th>25%</th>\n",
              "      <td>1.562853e+07</td>\n",
              "      <td>584.000000</td>\n",
              "      <td>32.000000</td>\n",
              "      <td>3.000000</td>\n",
              "      <td>0.000000</td>\n",
              "      <td>1.000000</td>\n",
              "      <td>0.00000</td>\n",
              "      <td>0.000000</td>\n",
              "      <td>50974.077500</td>\n",
              "      <td>0.000000</td>\n",
              "    </tr>\n",
              "    <tr>\n",
              "      <th>50%</th>\n",
              "      <td>1.569074e+07</td>\n",
              "      <td>652.000000</td>\n",
              "      <td>37.000000</td>\n",
              "      <td>5.000000</td>\n",
              "      <td>97198.540000</td>\n",
              "      <td>1.000000</td>\n",
              "      <td>1.00000</td>\n",
              "      <td>1.000000</td>\n",
              "      <td>100168.240000</td>\n",
              "      <td>0.000000</td>\n",
              "    </tr>\n",
              "    <tr>\n",
              "      <th>75%</th>\n",
              "      <td>1.575323e+07</td>\n",
              "      <td>718.000000</td>\n",
              "      <td>44.000000</td>\n",
              "      <td>7.000000</td>\n",
              "      <td>127644.240000</td>\n",
              "      <td>2.000000</td>\n",
              "      <td>1.00000</td>\n",
              "      <td>1.000000</td>\n",
              "      <td>149388.247500</td>\n",
              "      <td>0.000000</td>\n",
              "    </tr>\n",
              "    <tr>\n",
              "      <th>max</th>\n",
              "      <td>1.581569e+07</td>\n",
              "      <td>850.000000</td>\n",
              "      <td>92.000000</td>\n",
              "      <td>10.000000</td>\n",
              "      <td>250898.090000</td>\n",
              "      <td>4.000000</td>\n",
              "      <td>1.00000</td>\n",
              "      <td>1.000000</td>\n",
              "      <td>199992.480000</td>\n",
              "      <td>1.000000</td>\n",
              "    </tr>\n",
              "  </tbody>\n",
              "</table>\n",
              "</div>"
            ],
            "text/plain": [
              "         CustomerId      CredRate  ...  EstimatedSalary        Exited\n",
              "count  1.000000e+04  10000.000000  ...      9996.000000  10000.000000\n",
              "mean   1.569094e+07    650.528800  ...    100074.744083      0.203700\n",
              "std    7.193619e+04     96.653299  ...     57515.774555      0.402769\n",
              "min    1.556570e+07    350.000000  ...        11.580000      0.000000\n",
              "25%    1.562853e+07    584.000000  ...     50974.077500      0.000000\n",
              "50%    1.569074e+07    652.000000  ...    100168.240000      0.000000\n",
              "75%    1.575323e+07    718.000000  ...    149388.247500      0.000000\n",
              "max    1.581569e+07    850.000000  ...    199992.480000      1.000000\n",
              "\n",
              "[8 rows x 10 columns]"
            ]
          },
          "metadata": {
            "tags": []
          },
          "execution_count": 9
        }
      ]
    },
    {
      "cell_type": "code",
      "metadata": {
        "id": "XQEo-Ty2D8g9",
        "outputId": "48505d21-50d8-4544-8c2e-85cd0cb8d623",
        "colab": {
          "base_uri": "https://localhost:8080/"
        }
      },
      "source": [
        "data['HasCrCard'].value_counts()"
      ],
      "execution_count": null,
      "outputs": [
        {
          "output_type": "execute_result",
          "data": {
            "text/plain": [
              "1    7055\n",
              "0    2945\n",
              "Name: HasCrCard, dtype: int64"
            ]
          },
          "metadata": {
            "tags": []
          },
          "execution_count": 10
        }
      ]
    },
    {
      "cell_type": "code",
      "metadata": {
        "id": "pdd9CejWD8g_",
        "outputId": "c96c0e1e-71b8-487d-8391-e7bf3f605870",
        "colab": {
          "base_uri": "https://localhost:8080/"
        }
      },
      "source": [
        "## No of missing Values present\n",
        "data.isnull().sum()"
      ],
      "execution_count": null,
      "outputs": [
        {
          "output_type": "execute_result",
          "data": {
            "text/plain": [
              "CustomerId         0\n",
              "CredRate           0\n",
              "Geography          0\n",
              "Gender             4\n",
              "Age                6\n",
              "Tenure             0\n",
              "Balance            0\n",
              "Prod Number        0\n",
              "HasCrCard          0\n",
              "ActMem             0\n",
              "EstimatedSalary    4\n",
              "Exited             0\n",
              "dtype: int64"
            ]
          },
          "metadata": {
            "tags": []
          },
          "execution_count": 11
        }
      ]
    },
    {
      "cell_type": "code",
      "metadata": {
        "id": "KLkwUky8D8hA",
        "outputId": "d2cce219-c49c-46f3-c41c-3e7ea55630c7",
        "colab": {
          "base_uri": "https://localhost:8080/"
        }
      },
      "source": [
        "## Percentage of missing Values present\n",
        "round(data.isnull().sum()/len(data)*100,2)"
      ],
      "execution_count": null,
      "outputs": [
        {
          "output_type": "execute_result",
          "data": {
            "text/plain": [
              "CustomerId         0.00\n",
              "CredRate           0.00\n",
              "Geography          0.00\n",
              "Gender             0.04\n",
              "Age                0.06\n",
              "Tenure             0.00\n",
              "Balance            0.00\n",
              "Prod Number        0.00\n",
              "HasCrCard          0.00\n",
              "ActMem             0.00\n",
              "EstimatedSalary    0.04\n",
              "Exited             0.00\n",
              "dtype: float64"
            ]
          },
          "metadata": {
            "tags": []
          },
          "execution_count": 12
        }
      ]
    },
    {
      "cell_type": "code",
      "metadata": {
        "id": "Ph8QT6tbD8hD",
        "outputId": "d40d75c5-617e-479a-8411-278be82a0ab4",
        "colab": {
          "base_uri": "https://localhost:8080/"
        }
      },
      "source": [
        "## Checking the datatype of the missing columns\n",
        "data[[\"Gender\",\"Age\",\"EstimatedSalary\"]].dtypes"
      ],
      "execution_count": null,
      "outputs": [
        {
          "output_type": "execute_result",
          "data": {
            "text/plain": [
              "Gender              object\n",
              "Age                float64\n",
              "EstimatedSalary    float64\n",
              "dtype: object"
            ]
          },
          "metadata": {
            "tags": []
          },
          "execution_count": 13
        }
      ]
    },
    {
      "cell_type": "markdown",
      "metadata": {
        "id": "YnyeXWxOD8hE"
      },
      "source": [
        "### There are three ways to impute missing values:\n",
        "    1. Droping the missing values rows\n",
        "    2. Fill missing values with a test stastics\n",
        "    3. Predict the missing values using ML algorithm"
      ]
    },
    {
      "cell_type": "code",
      "metadata": {
        "id": "dCUpvg2rD8hF"
      },
      "source": [
        "### Filling the missing value with the mean of the values\n",
        "mean_value=data['EstimatedSalary'].mean()\n",
        "data['EstimatedSalary']=data['EstimatedSalary'].fillna(mean_value)"
      ],
      "execution_count": null,
      "outputs": []
    },
    {
      "cell_type": "code",
      "metadata": {
        "scrolled": true,
        "id": "qy2sz2fDD8hH",
        "outputId": "36a889ff-2ffd-4b07-acd7-f0f950aaf477",
        "colab": {
          "base_uri": "https://localhost:8080/"
        }
      },
      "source": [
        "data['Gender'].value_counts()"
      ],
      "execution_count": null,
      "outputs": [
        {
          "output_type": "execute_result",
          "data": {
            "text/plain": [
              "Male      5453\n",
              "Female    4543\n",
              "Name: Gender, dtype: int64"
            ]
          },
          "metadata": {
            "tags": []
          },
          "execution_count": 15
        }
      ]
    },
    {
      "cell_type": "code",
      "metadata": {
        "id": "nrOxm8NED8hI"
      },
      "source": [
        "### Since it seems that the Gender is a categorical field therefore\n",
        "### we will fill the values with the 0 since its the most occuring number\n",
        "\n",
        "data['Gender']=data['Gender'].fillna(data['Gender'].value_counts().idxmax())"
      ],
      "execution_count": null,
      "outputs": []
    },
    {
      "cell_type": "code",
      "metadata": {
        "id": "DNyUhkJiD8hK"
      },
      "source": [
        "mode_value=data['Age'].mode()\n",
        "data['Age']=data['Age'].fillna(mode_value[0])"
      ],
      "execution_count": null,
      "outputs": []
    },
    {
      "cell_type": "code",
      "metadata": {
        "scrolled": true,
        "id": "jAQ_dQuND8hM",
        "outputId": "eacd5a89-6636-44dd-d780-a3af3d070dd0",
        "colab": {
          "base_uri": "https://localhost:8080/"
        }
      },
      "source": [
        "##checking for any missing values\n",
        "\n",
        "data.isnull().any()"
      ],
      "execution_count": null,
      "outputs": [
        {
          "output_type": "execute_result",
          "data": {
            "text/plain": [
              "CustomerId         False\n",
              "CredRate           False\n",
              "Geography          False\n",
              "Gender             False\n",
              "Age                False\n",
              "Tenure             False\n",
              "Balance            False\n",
              "Prod Number        False\n",
              "HasCrCard          False\n",
              "ActMem             False\n",
              "EstimatedSalary    False\n",
              "Exited             False\n",
              "dtype: bool"
            ]
          },
          "metadata": {
            "tags": []
          },
          "execution_count": 18
        }
      ]
    },
    {
      "cell_type": "markdown",
      "metadata": {
        "id": "2zv1ic52D8hO"
      },
      "source": [
        "## Exercise 29"
      ]
    },
    {
      "cell_type": "markdown",
      "metadata": {
        "id": "FReQAW76D8hO"
      },
      "source": [
        "### Renaming the columns"
      ]
    },
    {
      "cell_type": "code",
      "metadata": {
        "id": "OEkY0R6JD8hP",
        "outputId": "04651bd5-09a3-4e79-8c70-f06563566e09",
        "colab": {
          "base_uri": "https://localhost:8080/"
        }
      },
      "source": [
        "# We would want to rename some of the columns\n",
        "\n",
        "data = data.rename(columns={\n",
        "                        'CredRate': 'CreditScore',\n",
        "                        'ActMem' : 'IsActiveMember',\n",
        "                        'Prod Number': 'NumOfProducts',\n",
        "                        'Exited':'Churn'\n",
        "                        })\n",
        "data.columns"
      ],
      "execution_count": null,
      "outputs": [
        {
          "output_type": "execute_result",
          "data": {
            "text/plain": [
              "Index(['CustomerId', 'CreditScore', 'Geography', 'Gender', 'Age', 'Tenure',\n",
              "       'Balance', 'NumOfProducts', 'HasCrCard', 'IsActiveMember',\n",
              "       'EstimatedSalary', 'Churn'],\n",
              "      dtype='object')"
            ]
          },
          "metadata": {
            "tags": []
          },
          "execution_count": 19
        }
      ]
    },
    {
      "cell_type": "markdown",
      "metadata": {
        "id": "lsAKoV9lD8hQ"
      },
      "source": [
        "### We would also like to move the churn columnn to the extreme right and drop the customer ID"
      ]
    },
    {
      "cell_type": "code",
      "metadata": {
        "id": "NMtvzEpFD8hR"
      },
      "source": [
        "data.drop(labels=['CustomerId'], axis=1,inplace = True)"
      ],
      "execution_count": null,
      "outputs": []
    },
    {
      "cell_type": "code",
      "metadata": {
        "id": "JuCCIr0oD8hS"
      },
      "source": [
        "column_churn = data['Churn']\n",
        "data.drop(labels=['Churn'], axis=1,inplace = True)\n",
        "data.insert(len(data.columns), 'Churn', column_churn.values)"
      ],
      "execution_count": null,
      "outputs": []
    },
    {
      "cell_type": "code",
      "metadata": {
        "scrolled": true,
        "id": "KVj2V0vaD8hU",
        "outputId": "d3e01d13-6c00-4b2e-9b0e-82a1d6f401e7",
        "colab": {
          "base_uri": "https://localhost:8080/"
        }
      },
      "source": [
        "data.columns"
      ],
      "execution_count": null,
      "outputs": [
        {
          "output_type": "execute_result",
          "data": {
            "text/plain": [
              "Index(['CreditScore', 'Geography', 'Gender', 'Age', 'Tenure', 'Balance',\n",
              "       'NumOfProducts', 'HasCrCard', 'IsActiveMember', 'EstimatedSalary',\n",
              "       'Churn'],\n",
              "      dtype='object')"
            ]
          },
          "metadata": {
            "tags": []
          },
          "execution_count": 22
        }
      ]
    },
    {
      "cell_type": "markdown",
      "metadata": {
        "id": "B175BxrXD8hW"
      },
      "source": [
        "### Changing the data type"
      ]
    },
    {
      "cell_type": "code",
      "metadata": {
        "id": "OzK66juqD8hW"
      },
      "source": [
        "# Convert these variables into categorical variables\n",
        "data[\"Geography\"] = data[\"Geography\"].astype('category')\n",
        "data[\"Gender\"] = data[\"Gender\"].astype('category')\n",
        "data[\"HasCrCard\"] = data[\"HasCrCard\"].astype('category')\n",
        "data[\"Churn\"] = data[\"Churn\"].astype('category')\n",
        "data[\"IsActiveMember\"] = data[\"IsActiveMember\"].astype('category')"
      ],
      "execution_count": null,
      "outputs": []
    },
    {
      "cell_type": "code",
      "metadata": {
        "scrolled": true,
        "id": "I1yZ1qg-D8hY",
        "outputId": "d84a9dd3-b077-4fb4-d915-9def5bddf8b1",
        "colab": {
          "base_uri": "https://localhost:8080/"
        }
      },
      "source": [
        "data.dtypes"
      ],
      "execution_count": null,
      "outputs": [
        {
          "output_type": "execute_result",
          "data": {
            "text/plain": [
              "CreditScore           int64\n",
              "Geography          category\n",
              "Gender             category\n",
              "Age                 float64\n",
              "Tenure                int64\n",
              "Balance             float64\n",
              "NumOfProducts         int64\n",
              "HasCrCard          category\n",
              "IsActiveMember     category\n",
              "EstimatedSalary     float64\n",
              "Churn              category\n",
              "dtype: object"
            ]
          },
          "metadata": {
            "tags": []
          },
          "execution_count": 24
        }
      ]
    },
    {
      "cell_type": "markdown",
      "metadata": {
        "id": "_Yco_zM0D8ha"
      },
      "source": [
        "## Exercise 30"
      ]
    },
    {
      "cell_type": "markdown",
      "metadata": {
        "id": "MlP8DxhFD8ha"
      },
      "source": [
        "# Exploring the data"
      ]
    },
    {
      "cell_type": "markdown",
      "metadata": {
        "id": "oOgkuagJD8hb"
      },
      "source": [
        "## Statistical Overview"
      ]
    },
    {
      "cell_type": "code",
      "metadata": {
        "id": "_T-6Ph1lD8hb",
        "outputId": "aa5b1004-0842-4de6-9507-49678856a917",
        "colab": {
          "base_uri": "https://localhost:8080/"
        }
      },
      "source": [
        "data['Churn'].value_counts(0)"
      ],
      "execution_count": null,
      "outputs": [
        {
          "output_type": "execute_result",
          "data": {
            "text/plain": [
              "0    7963\n",
              "1    2037\n",
              "Name: Churn, dtype: int64"
            ]
          },
          "metadata": {
            "tags": []
          },
          "execution_count": 25
        }
      ]
    },
    {
      "cell_type": "code",
      "metadata": {
        "id": "rso_5jhvD8hd",
        "outputId": "fa8ee383-0ca9-415f-f34f-c256463d5474",
        "colab": {
          "base_uri": "https://localhost:8080/"
        }
      },
      "source": [
        "data['Churn'].value_counts(1)*100"
      ],
      "execution_count": null,
      "outputs": [
        {
          "output_type": "execute_result",
          "data": {
            "text/plain": [
              "0    79.63\n",
              "1    20.37\n",
              "Name: Churn, dtype: float64"
            ]
          },
          "metadata": {
            "tags": []
          },
          "execution_count": 26
        }
      ]
    },
    {
      "cell_type": "code",
      "metadata": {
        "id": "uKpbE363D8he",
        "outputId": "8bc38a13-36e6-4bdd-b599-8a73917128de",
        "colab": {
          "base_uri": "https://localhost:8080/"
        }
      },
      "source": [
        "data['IsActiveMember'].value_counts(1)*100"
      ],
      "execution_count": null,
      "outputs": [
        {
          "output_type": "execute_result",
          "data": {
            "text/plain": [
              "1    51.51\n",
              "0    48.49\n",
              "Name: IsActiveMember, dtype: float64"
            ]
          },
          "metadata": {
            "tags": []
          },
          "execution_count": 27
        }
      ]
    },
    {
      "cell_type": "code",
      "metadata": {
        "id": "4oAW2S5RD8hg",
        "outputId": "bf7b0bb0-c8e8-4964-e902-2cedd696300c",
        "colab": {
          "base_uri": "https://localhost:8080/",
          "height": 282
        }
      },
      "source": [
        "data.describe()"
      ],
      "execution_count": null,
      "outputs": [
        {
          "output_type": "execute_result",
          "data": {
            "text/html": [
              "<div>\n",
              "<style scoped>\n",
              "    .dataframe tbody tr th:only-of-type {\n",
              "        vertical-align: middle;\n",
              "    }\n",
              "\n",
              "    .dataframe tbody tr th {\n",
              "        vertical-align: top;\n",
              "    }\n",
              "\n",
              "    .dataframe thead th {\n",
              "        text-align: right;\n",
              "    }\n",
              "</style>\n",
              "<table border=\"1\" class=\"dataframe\">\n",
              "  <thead>\n",
              "    <tr style=\"text-align: right;\">\n",
              "      <th></th>\n",
              "      <th>CreditScore</th>\n",
              "      <th>Age</th>\n",
              "      <th>Tenure</th>\n",
              "      <th>Balance</th>\n",
              "      <th>NumOfProducts</th>\n",
              "      <th>EstimatedSalary</th>\n",
              "    </tr>\n",
              "  </thead>\n",
              "  <tbody>\n",
              "    <tr>\n",
              "      <th>count</th>\n",
              "      <td>10000.000000</td>\n",
              "      <td>10000.000000</td>\n",
              "      <td>10000.000000</td>\n",
              "      <td>10000.000000</td>\n",
              "      <td>10000.000000</td>\n",
              "      <td>10000.000000</td>\n",
              "    </tr>\n",
              "    <tr>\n",
              "      <th>mean</th>\n",
              "      <td>650.528800</td>\n",
              "      <td>38.924100</td>\n",
              "      <td>5.012800</td>\n",
              "      <td>76485.889288</td>\n",
              "      <td>1.530200</td>\n",
              "      <td>100074.744083</td>\n",
              "    </tr>\n",
              "    <tr>\n",
              "      <th>std</th>\n",
              "      <td>96.653299</td>\n",
              "      <td>10.486207</td>\n",
              "      <td>2.892174</td>\n",
              "      <td>62397.405202</td>\n",
              "      <td>0.581654</td>\n",
              "      <td>57504.269099</td>\n",
              "    </tr>\n",
              "    <tr>\n",
              "      <th>min</th>\n",
              "      <td>350.000000</td>\n",
              "      <td>18.000000</td>\n",
              "      <td>0.000000</td>\n",
              "      <td>0.000000</td>\n",
              "      <td>1.000000</td>\n",
              "      <td>11.580000</td>\n",
              "    </tr>\n",
              "    <tr>\n",
              "      <th>25%</th>\n",
              "      <td>584.000000</td>\n",
              "      <td>32.000000</td>\n",
              "      <td>3.000000</td>\n",
              "      <td>0.000000</td>\n",
              "      <td>1.000000</td>\n",
              "      <td>51002.110000</td>\n",
              "    </tr>\n",
              "    <tr>\n",
              "      <th>50%</th>\n",
              "      <td>652.000000</td>\n",
              "      <td>37.000000</td>\n",
              "      <td>5.000000</td>\n",
              "      <td>97198.540000</td>\n",
              "      <td>1.000000</td>\n",
              "      <td>100134.325000</td>\n",
              "    </tr>\n",
              "    <tr>\n",
              "      <th>75%</th>\n",
              "      <td>718.000000</td>\n",
              "      <td>44.000000</td>\n",
              "      <td>7.000000</td>\n",
              "      <td>127644.240000</td>\n",
              "      <td>2.000000</td>\n",
              "      <td>149382.097500</td>\n",
              "    </tr>\n",
              "    <tr>\n",
              "      <th>max</th>\n",
              "      <td>850.000000</td>\n",
              "      <td>92.000000</td>\n",
              "      <td>10.000000</td>\n",
              "      <td>250898.090000</td>\n",
              "      <td>4.000000</td>\n",
              "      <td>199992.480000</td>\n",
              "    </tr>\n",
              "  </tbody>\n",
              "</table>\n",
              "</div>"
            ],
            "text/plain": [
              "        CreditScore           Age  ...  NumOfProducts  EstimatedSalary\n",
              "count  10000.000000  10000.000000  ...   10000.000000     10000.000000\n",
              "mean     650.528800     38.924100  ...       1.530200    100074.744083\n",
              "std       96.653299     10.486207  ...       0.581654     57504.269099\n",
              "min      350.000000     18.000000  ...       1.000000        11.580000\n",
              "25%      584.000000     32.000000  ...       1.000000     51002.110000\n",
              "50%      652.000000     37.000000  ...       1.000000    100134.325000\n",
              "75%      718.000000     44.000000  ...       2.000000    149382.097500\n",
              "max      850.000000     92.000000  ...       4.000000    199992.480000\n",
              "\n",
              "[8 rows x 6 columns]"
            ]
          },
          "metadata": {
            "tags": []
          },
          "execution_count": 28
        }
      ]
    },
    {
      "cell_type": "code",
      "metadata": {
        "scrolled": true,
        "id": "Vw1t3PnUD8hi",
        "outputId": "1b4c0bcb-6371-43eb-d1de-fca69c2f38b3",
        "colab": {
          "base_uri": "https://localhost:8080/",
          "height": 135
        }
      },
      "source": [
        "summary_churn = data.groupby('Churn')\n",
        "summary_churn.mean()"
      ],
      "execution_count": null,
      "outputs": [
        {
          "output_type": "execute_result",
          "data": {
            "text/html": [
              "<div>\n",
              "<style scoped>\n",
              "    .dataframe tbody tr th:only-of-type {\n",
              "        vertical-align: middle;\n",
              "    }\n",
              "\n",
              "    .dataframe tbody tr th {\n",
              "        vertical-align: top;\n",
              "    }\n",
              "\n",
              "    .dataframe thead th {\n",
              "        text-align: right;\n",
              "    }\n",
              "</style>\n",
              "<table border=\"1\" class=\"dataframe\">\n",
              "  <thead>\n",
              "    <tr style=\"text-align: right;\">\n",
              "      <th></th>\n",
              "      <th>CreditScore</th>\n",
              "      <th>Age</th>\n",
              "      <th>Tenure</th>\n",
              "      <th>Balance</th>\n",
              "      <th>NumOfProducts</th>\n",
              "      <th>EstimatedSalary</th>\n",
              "    </tr>\n",
              "    <tr>\n",
              "      <th>Churn</th>\n",
              "      <th></th>\n",
              "      <th></th>\n",
              "      <th></th>\n",
              "      <th></th>\n",
              "      <th></th>\n",
              "      <th></th>\n",
              "    </tr>\n",
              "  </thead>\n",
              "  <tbody>\n",
              "    <tr>\n",
              "      <th>0</th>\n",
              "      <td>651.853196</td>\n",
              "      <td>37.411277</td>\n",
              "      <td>5.033279</td>\n",
              "      <td>72745.296779</td>\n",
              "      <td>1.544267</td>\n",
              "      <td>99718.932023</td>\n",
              "    </tr>\n",
              "    <tr>\n",
              "      <th>1</th>\n",
              "      <td>645.351497</td>\n",
              "      <td>44.837997</td>\n",
              "      <td>4.932744</td>\n",
              "      <td>91108.539337</td>\n",
              "      <td>1.475209</td>\n",
              "      <td>101465.677531</td>\n",
              "    </tr>\n",
              "  </tbody>\n",
              "</table>\n",
              "</div>"
            ],
            "text/plain": [
              "       CreditScore        Age  ...  NumOfProducts  EstimatedSalary\n",
              "Churn                          ...                                \n",
              "0       651.853196  37.411277  ...       1.544267     99718.932023\n",
              "1       645.351497  44.837997  ...       1.475209    101465.677531\n",
              "\n",
              "[2 rows x 6 columns]"
            ]
          },
          "metadata": {
            "tags": []
          },
          "execution_count": 29
        }
      ]
    },
    {
      "cell_type": "code",
      "metadata": {
        "id": "tSpWOB_DD8hk",
        "outputId": "33fd26e5-fdf8-4fc4-ac39-177d5f6931b3",
        "colab": {
          "base_uri": "https://localhost:8080/",
          "height": 135
        }
      },
      "source": [
        "summary_churn.median()"
      ],
      "execution_count": null,
      "outputs": [
        {
          "output_type": "execute_result",
          "data": {
            "text/html": [
              "<div>\n",
              "<style scoped>\n",
              "    .dataframe tbody tr th:only-of-type {\n",
              "        vertical-align: middle;\n",
              "    }\n",
              "\n",
              "    .dataframe tbody tr th {\n",
              "        vertical-align: top;\n",
              "    }\n",
              "\n",
              "    .dataframe thead th {\n",
              "        text-align: right;\n",
              "    }\n",
              "</style>\n",
              "<table border=\"1\" class=\"dataframe\">\n",
              "  <thead>\n",
              "    <tr style=\"text-align: right;\">\n",
              "      <th></th>\n",
              "      <th>CreditScore</th>\n",
              "      <th>Age</th>\n",
              "      <th>Tenure</th>\n",
              "      <th>Balance</th>\n",
              "      <th>NumOfProducts</th>\n",
              "      <th>EstimatedSalary</th>\n",
              "    </tr>\n",
              "    <tr>\n",
              "      <th>Churn</th>\n",
              "      <th></th>\n",
              "      <th></th>\n",
              "      <th></th>\n",
              "      <th></th>\n",
              "      <th></th>\n",
              "      <th></th>\n",
              "    </tr>\n",
              "  </thead>\n",
              "  <tbody>\n",
              "    <tr>\n",
              "      <th>0</th>\n",
              "      <td>653</td>\n",
              "      <td>36.0</td>\n",
              "      <td>5</td>\n",
              "      <td>92072.68</td>\n",
              "      <td>2</td>\n",
              "      <td>99645.04</td>\n",
              "    </tr>\n",
              "    <tr>\n",
              "      <th>1</th>\n",
              "      <td>646</td>\n",
              "      <td>45.0</td>\n",
              "      <td>5</td>\n",
              "      <td>109349.29</td>\n",
              "      <td>1</td>\n",
              "      <td>102460.84</td>\n",
              "    </tr>\n",
              "  </tbody>\n",
              "</table>\n",
              "</div>"
            ],
            "text/plain": [
              "       CreditScore   Age  Tenure    Balance  NumOfProducts  EstimatedSalary\n",
              "Churn                                                                      \n",
              "0              653  36.0       5   92072.68              2         99645.04\n",
              "1              646  45.0       5  109349.29              1        102460.84"
            ]
          },
          "metadata": {
            "tags": []
          },
          "execution_count": 30
        }
      ]
    },
    {
      "cell_type": "code",
      "metadata": {
        "scrolled": false,
        "id": "qqdM67nsD8hm",
        "outputId": "e8028e76-2bff-4125-dc82-22aaebb53131",
        "colab": {
          "base_uri": "https://localhost:8080/",
          "height": 693
        }
      },
      "source": [
        "corr = data.corr()\n",
        "plt.figure(figsize=(15,8))\n",
        "sns.heatmap(corr, \n",
        "            xticklabels=corr.columns.values,\n",
        "            yticklabels=corr.columns.values,annot=True)\n",
        "corr"
      ],
      "execution_count": null,
      "outputs": [
        {
          "output_type": "execute_result",
          "data": {
            "text/html": [
              "<div>\n",
              "<style scoped>\n",
              "    .dataframe tbody tr th:only-of-type {\n",
              "        vertical-align: middle;\n",
              "    }\n",
              "\n",
              "    .dataframe tbody tr th {\n",
              "        vertical-align: top;\n",
              "    }\n",
              "\n",
              "    .dataframe thead th {\n",
              "        text-align: right;\n",
              "    }\n",
              "</style>\n",
              "<table border=\"1\" class=\"dataframe\">\n",
              "  <thead>\n",
              "    <tr style=\"text-align: right;\">\n",
              "      <th></th>\n",
              "      <th>CreditScore</th>\n",
              "      <th>Age</th>\n",
              "      <th>Tenure</th>\n",
              "      <th>Balance</th>\n",
              "      <th>NumOfProducts</th>\n",
              "      <th>EstimatedSalary</th>\n",
              "    </tr>\n",
              "  </thead>\n",
              "  <tbody>\n",
              "    <tr>\n",
              "      <th>CreditScore</th>\n",
              "      <td>1.000000</td>\n",
              "      <td>-0.004179</td>\n",
              "      <td>0.000842</td>\n",
              "      <td>0.006268</td>\n",
              "      <td>0.012238</td>\n",
              "      <td>-0.001352</td>\n",
              "    </tr>\n",
              "    <tr>\n",
              "      <th>Age</th>\n",
              "      <td>-0.004179</td>\n",
              "      <td>1.000000</td>\n",
              "      <td>-0.009996</td>\n",
              "      <td>0.028141</td>\n",
              "      <td>-0.030590</td>\n",
              "      <td>-0.007215</td>\n",
              "    </tr>\n",
              "    <tr>\n",
              "      <th>Tenure</th>\n",
              "      <td>0.000842</td>\n",
              "      <td>-0.009996</td>\n",
              "      <td>1.000000</td>\n",
              "      <td>-0.012254</td>\n",
              "      <td>0.013444</td>\n",
              "      <td>0.007407</td>\n",
              "    </tr>\n",
              "    <tr>\n",
              "      <th>Balance</th>\n",
              "      <td>0.006268</td>\n",
              "      <td>0.028141</td>\n",
              "      <td>-0.012254</td>\n",
              "      <td>1.000000</td>\n",
              "      <td>-0.304180</td>\n",
              "      <td>0.013129</td>\n",
              "    </tr>\n",
              "    <tr>\n",
              "      <th>NumOfProducts</th>\n",
              "      <td>0.012238</td>\n",
              "      <td>-0.030590</td>\n",
              "      <td>0.013444</td>\n",
              "      <td>-0.304180</td>\n",
              "      <td>1.000000</td>\n",
              "      <td>0.014132</td>\n",
              "    </tr>\n",
              "    <tr>\n",
              "      <th>EstimatedSalary</th>\n",
              "      <td>-0.001352</td>\n",
              "      <td>-0.007215</td>\n",
              "      <td>0.007407</td>\n",
              "      <td>0.013129</td>\n",
              "      <td>0.014132</td>\n",
              "      <td>1.000000</td>\n",
              "    </tr>\n",
              "  </tbody>\n",
              "</table>\n",
              "</div>"
            ],
            "text/plain": [
              "                 CreditScore       Age  ...  NumOfProducts  EstimatedSalary\n",
              "CreditScore         1.000000 -0.004179  ...       0.012238        -0.001352\n",
              "Age                -0.004179  1.000000  ...      -0.030590        -0.007215\n",
              "Tenure              0.000842 -0.009996  ...       0.013444         0.007407\n",
              "Balance             0.006268  0.028141  ...      -0.304180         0.013129\n",
              "NumOfProducts       0.012238 -0.030590  ...       1.000000         0.014132\n",
              "EstimatedSalary    -0.001352 -0.007215  ...       0.014132         1.000000\n",
              "\n",
              "[6 rows x 6 columns]"
            ]
          },
          "metadata": {
            "tags": []
          },
          "execution_count": 31
        },
        {
          "output_type": "display_data",
          "data": {
            "image/png": "[encoded data removed]",
            "text/plain": [
              "<Figure size 1080x576 with 2 Axes>"
            ]
          },
          "metadata": {
            "tags": [],
            "needs_background": "light"
          }
        }
      ]
    },
    {
      "cell_type": "markdown",
      "metadata": {
        "id": "WB1ecbFHD8hn"
      },
      "source": [
        "## Exercise 31"
      ]
    },
    {
      "cell_type": "markdown",
      "metadata": {
        "id": "K3MzLFBvD8ho"
      },
      "source": [
        "## Visualization"
      ]
    },
    {
      "cell_type": "code",
      "metadata": {
        "scrolled": false,
        "id": "yAMPzqvDD8ho",
        "outputId": "0ad991a1-11cc-47c8-e0bf-6e836d91769f",
        "colab": {
          "base_uri": "https://localhost:8080/",
          "height": 422
        }
      },
      "source": [
        "f, axes = plt.subplots(ncols=3, figsize=(15, 6))\n",
        "\n",
        "sns.distplot(data.EstimatedSalary, kde=True, color=\"darkgreen\", ax=axes[0]).set_title('EstimatedSalary')\n",
        "axes[0].set_ylabel('No of Customers')\n",
        "\n",
        "\n",
        "sns.distplot(data.Age, kde=True, color=\"darkblue\", ax=axes[1]).set_title('Age')\n",
        "axes[1].set_ylabel('No of Customers')\n",
        "\n",
        "\n",
        "sns.distplot(data.Balance, kde=True, color=\"maroon\", ax=axes[2]).set_title('Balance')\n",
        "axes[2].set_ylabel('No of Customers')\n"
      ],
      "execution_count": null,
      "outputs": [
        {
          "output_type": "execute_result",
          "data": {
            "text/plain": [
              "Text(0, 0.5, 'No of Customers')"
            ]
          },
          "metadata": {
            "tags": []
          },
          "execution_count": 32
        },
        {
          "output_type": "display_data",
          "data": {
            "image/png": "[encoded data removed]",
            "text/plain": [
              "<Figure size 1080x432 with 3 Axes>"
            ]
          },
          "metadata": {
            "tags": [],
            "needs_background": "light"
          }
        }
      ]
    },
    {
      "cell_type": "code",
      "metadata": {
        "id": "EXtZgDJ_D8hq",
        "outputId": "668422b8-3f61-43e3-b54a-028bbd91edae",
        "colab": {
          "base_uri": "https://localhost:8080/",
          "height": 313
        }
      },
      "source": [
        "plt.figure(figsize=(15,4))\n",
        "p=sns.countplot(y=\"Gender\", hue='Churn', data=data,palette=\"Set2\")\n",
        "legend = p.get_legend()\n",
        "legend_txt = legend.texts\n",
        "legend_txt[0].set_text(\"No Churn\")\n",
        "legend_txt[1].set_text(\"Churn\")\n",
        "p.set_title('Customer Churn Distribution by Gender')"
      ],
      "execution_count": null,
      "outputs": [
        {
          "output_type": "execute_result",
          "data": {
            "text/plain": [
              "Text(0.5, 1.0, 'Customer Churn Distribution by Gender')"
            ]
          },
          "metadata": {
            "tags": []
          },
          "execution_count": 33
        },
        {
          "output_type": "display_data",
          "data": {
            "image/png": "[encoded data removed]",
            "text/plain": [
              "<Figure size 1080x288 with 1 Axes>"
            ]
          },
          "metadata": {
            "tags": [],
            "needs_background": "light"
          }
        }
      ]
    },
    {
      "cell_type": "code",
      "metadata": {
        "id": "wjRFx98ZD8hr",
        "outputId": "5540fd5f-49a6-4f31-f775-5311334e482c",
        "colab": {
          "base_uri": "https://localhost:8080/",
          "height": 313
        }
      },
      "source": [
        "plt.figure(figsize=(15,4))\n",
        "p=sns.countplot(x='Geography', hue='Churn',data=data, palette=\"Set2\")\n",
        "legend = p.get_legend()\n",
        "legend_txt = legend.texts\n",
        "legend_txt[0].set_text(\"No Churn\")\n",
        "legend_txt[1].set_text(\"Churn\")\n",
        "p.set_title('Customer Geography Distribution')"
      ],
      "execution_count": null,
      "outputs": [
        {
          "output_type": "execute_result",
          "data": {
            "text/plain": [
              "Text(0.5, 1.0, 'Customer Geography Distribution')"
            ]
          },
          "metadata": {
            "tags": []
          },
          "execution_count": 34
        },
        {
          "output_type": "display_data",
          "data": {
            "image/png": "[encoded data removed]",
            "text/plain": [
              "<Figure size 1080x288 with 1 Axes>"
            ]
          },
          "metadata": {
            "tags": [],
            "needs_background": "light"
          }
        }
      ]
    },
    {
      "cell_type": "code",
      "metadata": {
        "id": "_sNQWU2ND8ht",
        "outputId": "49e0bc90-10f3-4667-db43-515ae9eb53dc",
        "colab": {
          "base_uri": "https://localhost:8080/",
          "height": 313
        }
      },
      "source": [
        "plt.figure(figsize=(15,4))\n",
        "p=sns.countplot(x='NumOfProducts', hue='Churn',data=data, palette=\"Set2\")\n",
        "legend = p.get_legend()\n",
        "legend_txt = legend.texts\n",
        "legend_txt[0].set_text(\"No Churn\")\n",
        "legend_txt[1].set_text(\"Churn\")\n",
        "p.set_title('Customer Distribution by Product')"
      ],
      "execution_count": null,
      "outputs": [
        {
          "output_type": "execute_result",
          "data": {
            "text/plain": [
              "Text(0.5, 1.0, 'Customer Distribution by Product')"
            ]
          },
          "metadata": {
            "tags": []
          },
          "execution_count": 35
        },
        {
          "output_type": "display_data",
          "data": {
            "image/png": "[encoded data removed]",
            "text/plain": [
              "<Figure size 1080x288 with 1 Axes>"
            ]
          },
          "metadata": {
            "tags": [],
            "needs_background": "light"
          }
        }
      ]
    },
    {
      "cell_type": "code",
      "metadata": {
        "id": "j4xJC7cFD8hv",
        "outputId": "aceff6a6-e1f7-49ae-fa41-6bd5d595a704",
        "colab": {
          "base_uri": "https://localhost:8080/",
          "height": 313
        }
      },
      "source": [
        "plt.figure(figsize=(15,4))\n",
        "ax=sns.kdeplot(data.loc[(data['Churn'] == 0),'Age'] , color=sns.color_palette(\"Set2\")[0],shade=True,label='no churn')\n",
        "ax=sns.kdeplot(data.loc[(data['Churn'] == 1),'Age'] , color=sns.color_palette(\"Set2\")[1],shade=True, label='churn')\n",
        "ax.set(xlabel='Customer Age', ylabel='Frequency')\n",
        "plt.title('Customer Age - churn vs no churn')"
      ],
      "execution_count": null,
      "outputs": [
        {
          "output_type": "execute_result",
          "data": {
            "text/plain": [
              "Text(0.5, 1.0, 'Customer Age - churn vs no churn')"
            ]
          },
          "metadata": {
            "tags": []
          },
          "execution_count": 36
        },
        {
          "output_type": "display_data",
          "data": {
            "image/png": "[encoded data removed]",
            "text/plain": [
              "<Figure size 1080x288 with 1 Axes>"
            ]
          },
          "metadata": {
            "tags": [],
            "needs_background": "light"
          }
        }
      ]
    },
    {
      "cell_type": "code",
      "metadata": {
        "id": "D9AJWefhD8hx",
        "outputId": "0087c6a6-65df-4135-ecff-678587356594",
        "colab": {
          "base_uri": "https://localhost:8080/",
          "height": 313
        }
      },
      "source": [
        "plt.figure(figsize=(15,4))\n",
        "ax=sns.kdeplot(data.loc[(data['Churn'] == 0),'Balance'] , color=sns.color_palette(\"Set2\")[0],shade=True,label='no churn')\n",
        "ax=sns.kdeplot(data.loc[(data['Churn'] == 1),'Balance'] , color=sns.color_palette(\"Set2\")[1],shade=True, label='churn')\n",
        "ax.set(xlabel='Customer Balance', ylabel='Frequency')\n",
        "plt.title('Customer Balance - churn vs no churn')"
      ],
      "execution_count": null,
      "outputs": [
        {
          "output_type": "execute_result",
          "data": {
            "text/plain": [
              "Text(0.5, 1.0, 'Customer Balance - churn vs no churn')"
            ]
          },
          "metadata": {
            "tags": []
          },
          "execution_count": 37
        },
        {
          "output_type": "display_data",
          "data": {
            "image/png": "[encoded data removed]",
            "text/plain": [
              "<Figure size 1080x288 with 1 Axes>"
            ]
          },
          "metadata": {
            "tags": [],
            "needs_background": "light"
          }
        }
      ]
    },
    {
      "cell_type": "code",
      "metadata": {
        "id": "WQXyuMT3D8hy",
        "outputId": "fa7d21f7-7130-492a-aebd-120ec72db4cb",
        "colab": {
          "base_uri": "https://localhost:8080/",
          "height": 313
        }
      },
      "source": [
        "plt.figure(figsize=(15,4))\n",
        "ax=sns.kdeplot(data.loc[(data['Churn'] == 0),'CreditScore'] , color=sns.color_palette(\"Set2\")[0],shade=True,label='no churn')\n",
        "ax=sns.kdeplot(data.loc[(data['Churn'] == 1),'CreditScore'] , color=sns.color_palette(\"Set2\")[1],shade=True, label='churn')\n",
        "ax.set(xlabel='CreditScore', ylabel='Frequency')\n",
        "plt.title('Customer CreditScore - churn vs no churn')"
      ],
      "execution_count": null,
      "outputs": [
        {
          "output_type": "execute_result",
          "data": {
            "text/plain": [
              "Text(0.5, 1.0, 'Customer CreditScore - churn vs no churn')"
            ]
          },
          "metadata": {
            "tags": []
          },
          "execution_count": 38
        },
        {
          "output_type": "display_data",
          "data": {
            "image/png": "[encoded data removed]",
            "text/plain": [
              "<Figure size 1080x288 with 1 Axes>"
            ]
          },
          "metadata": {
            "tags": [],
            "needs_background": "light"
          }
        }
      ]
    },
    {
      "cell_type": "code",
      "metadata": {
        "scrolled": true,
        "id": "Ff2_pRZFD8h0",
        "outputId": "b1673e10-38ba-4a77-d45e-7fc120721216",
        "colab": {
          "base_uri": "https://localhost:8080/",
          "height": 313
        }
      },
      "source": [
        "plt.figure(figsize=(16,4))\n",
        "\n",
        "p=sns.barplot(x='NumOfProducts',y='Balance',hue='Churn',data=data, palette=\"Set2\")\n",
        "p.legend(loc='upper right')\n",
        "legend = p.get_legend()\n",
        "legend_txt = legend.texts\n",
        "legend_txt[0].set_text(\"No Churn\")\n",
        "legend_txt[1].set_text(\"Churn\")\n",
        "p.set_title('Number of Product VS Balance')"
      ],
      "execution_count": null,
      "outputs": [
        {
          "output_type": "execute_result",
          "data": {
            "text/plain": [
              "Text(0.5, 1.0, 'Number of Product VS Balance')"
            ]
          },
          "metadata": {
            "tags": []
          },
          "execution_count": 39
        },
        {
          "output_type": "display_data",
          "data": {
            "image/png": "[encoded data removed]",
            "text/plain": [
              "<Figure size 1152x288 with 1 Axes>"
            ]
          },
          "metadata": {
            "tags": [],
            "needs_background": "light"
          }
        }
      ]
    },
    {
      "cell_type": "markdown",
      "metadata": {
        "id": "0e9QwTqpD8h2"
      },
      "source": [
        "## Exercise 32"
      ]
    },
    {
      "cell_type": "markdown",
      "metadata": {
        "id": "lwH91_wDD8h3"
      },
      "source": [
        "## Feature selection"
      ]
    },
    {
      "cell_type": "code",
      "metadata": {
        "id": "RuSgLUzoD8h3"
      },
      "source": [
        "from sklearn.ensemble import RandomForestClassifier\n",
        "from sklearn.model_selection import train_test_split"
      ],
      "execution_count": null,
      "outputs": []
    },
    {
      "cell_type": "code",
      "metadata": {
        "id": "rVYioPA9D8h6",
        "outputId": "a63033ad-3c20-4a58-8605-31331ec424d6",
        "colab": {
          "base_uri": "https://localhost:8080/"
        }
      },
      "source": [
        "data.dtypes"
      ],
      "execution_count": null,
      "outputs": [
        {
          "output_type": "execute_result",
          "data": {
            "text/plain": [
              "CreditScore           int64\n",
              "Geography          category\n",
              "Gender             category\n",
              "Age                 float64\n",
              "Tenure                int64\n",
              "Balance             float64\n",
              "NumOfProducts         int64\n",
              "HasCrCard          category\n",
              "IsActiveMember     category\n",
              "EstimatedSalary     float64\n",
              "Churn              category\n",
              "dtype: object"
            ]
          },
          "metadata": {
            "tags": []
          },
          "execution_count": 41
        }
      ]
    },
    {
      "cell_type": "code",
      "metadata": {
        "id": "x19vQLSnD8h8"
      },
      "source": [
        "### Encoding the categorical variables\n",
        "data[\"Geography\"] = data[\"Geography\"].astype('category').cat.codes\n",
        "data[\"Gender\"] = data[\"Gender\"].astype('category').cat.codes\n",
        "data[\"HasCrCard\"] = data[\"HasCrCard\"].astype('category').cat.codes\n",
        "data[\"Churn\"] = data[\"Churn\"].astype('category').cat.codes"
      ],
      "execution_count": null,
      "outputs": []
    },
    {
      "cell_type": "code",
      "metadata": {
        "id": "baQG1_egD8h-"
      },
      "source": [
        "target = 'Churn'\n",
        "X = data.drop('Churn', axis=1)\n",
        "y=data[target]\n",
        "\n",
        "X_train, X_test, y_train, y_test = train_test_split(X,y,test_size=0.15, random_state=123, stratify=y)"
      ],
      "execution_count": null,
      "outputs": []
    },
    {
      "cell_type": "code",
      "metadata": {
        "scrolled": false,
        "id": "h_PF5Z9uD8iA",
        "outputId": "63f9b8de-37a2-420f-efa5-de7a392e3071",
        "colab": {
          "base_uri": "https://localhost:8080/",
          "height": 395
        }
      },
      "source": [
        "forest=RandomForestClassifier(n_estimators=500,random_state=1)\n",
        "\n",
        "forest.fit(X_train,y_train)\n",
        "\n",
        "importances=forest.feature_importances_\n",
        "features = data.drop(['Churn'],axis=1).columns\n",
        "\n",
        "indices = np.argsort(importances)[::-1]\n",
        "\n",
        "plt.figure(figsize=(15,4))\n",
        "plt.title(\"Feature importances using Random Forest\")\n",
        "plt.bar(range(X_train.shape[1]), importances[indices],\n",
        "       color=\"r\",  align=\"center\")\n",
        "plt.xticks(range(X_train.shape[1]), features[indices], rotation='vertical',fontsize=15)\n",
        "plt.xlim([-1, X_train.shape[1]])\n",
        "plt.show()"
      ],
      "execution_count": null,
      "outputs": [
        {
          "output_type": "display_data",
          "data": {
            "image/png": "[encoded data removed]",
            "text/plain": [
              "<Figure size 1080x288 with 1 Axes>"
            ]
          },
          "metadata": {
            "tags": [],
            "needs_background": "light"
          }
        }
      ]
    },
    {
      "cell_type": "code",
      "metadata": {
        "id": "lFep9UvUEPQs"
      },
      "source": [
        "feature_importance_df = pd.DataFrame({\"Feature\":features,\"Importance\":importances})"
      ],
      "execution_count": null,
      "outputs": []
    },
    {
      "cell_type": "code",
      "metadata": {
        "id": "ZFnyClMoEVSs",
        "outputId": "5d8a31ce-6a2e-48fb-c522-bcf55d11c651",
        "colab": {
          "base_uri": "https://localhost:8080/"
        }
      },
      "source": [
        "print(feature_importance_df)"
      ],
      "execution_count": null,
      "outputs": [
        {
          "output_type": "stream",
          "text": [
            "           Feature  Importance\n",
            "0      CreditScore    0.143886\n",
            "1        Geography    0.038548\n",
            "2           Gender    0.019299\n",
            "3              Age    0.241954\n",
            "4           Tenure    0.081503\n",
            "5          Balance    0.141760\n",
            "6    NumOfProducts    0.128461\n",
            "7        HasCrCard    0.019139\n",
            "8   IsActiveMember    0.038878\n",
            "9  EstimatedSalary    0.146571\n"
          ],
          "name": "stdout"
        }
      ]
    },
    {
      "cell_type": "markdown",
      "metadata": {
        "id": "wJh_2vn1D8iC"
      },
      "source": [
        "## Exercise 33"
      ]
    },
    {
      "cell_type": "markdown",
      "metadata": {
        "id": "GJNPKzXlD8iC"
      },
      "source": [
        "## Model Fitting"
      ]
    },
    {
      "cell_type": "code",
      "metadata": {
        "scrolled": true,
        "id": "kSJzQko6D8iC",
        "outputId": "70ffc0a2-dbb1-458a-e28b-631495bfa9a4"
      },
      "source": [
        "### From the feature selection let us take only the top 5 features\n",
        "\n",
        "import statsmodels.api as sm\n",
        "top5_features = ['Age','EstimatedSalary','CreditScore','Balance','NumOfProducts']\n",
        "logReg = sm.Logit(y_train, X_train[top5_features])\n",
        "logistic_regression = logReg.fit()"
      ],
      "execution_count": null,
      "outputs": [
        {
          "output_type": "stream",
          "text": [
            "Optimization terminated successfully.\n",
            "         Current function value: 0.472882\n",
            "         Iterations 6\n"
          ],
          "name": "stdout"
        }
      ]
    },
    {
      "cell_type": "code",
      "metadata": {
        "id": "yLQT68bnD8iE",
        "outputId": "1006b771-0b07-4c7e-a66c-8beb3aadfe10"
      },
      "source": [
        "logistic_regression.summary\n",
        "logistic_regression.params"
      ],
      "execution_count": null,
      "outputs": [
        {
          "output_type": "execute_result",
          "data": {
            "text/plain": [
              "Age                0.048335\n",
              "EstimatedSalary   -0.000001\n",
              "CreditScore       -0.004470\n",
              "Balance            0.000003\n",
              "NumOfProducts     -0.361678\n",
              "dtype: float64"
            ]
          },
          "metadata": {
            "tags": []
          },
          "execution_count": 335
        }
      ]
    },
    {
      "cell_type": "code",
      "metadata": {
        "id": "Tn7xhwZzD8iF"
      },
      "source": [
        "# Create function to compute coefficients\n",
        "coef = logistic_regression.params\n",
        "def y (coef,Age,EstimatedSalary,CreditScore,Balance,NumOfProducts) : \n",
        "    return coef[0]*Age+ coef[1]*EstimatedSalary+coef[2]*CreditScore+coef[1]*Balance+coef[2]*NumOfProducts"
      ],
      "execution_count": null,
      "outputs": []
    },
    {
      "cell_type": "code",
      "metadata": {
        "id": "0CAHvfCmD8iH",
        "outputId": "6f9f287e-ef4d-4d1b-f0b6-42e5b1dcd59f"
      },
      "source": [
        "import numpy as np\n",
        "\n",
        "#A customer having below attributes\n",
        "#Age: 50\n",
        "#EstimatedSalary: 100,000 \n",
        "#CreditScore: 600\n",
        "#Balance: 100,000\n",
        "#NumOfProducts: 2\n",
        "#would have 38% chance of churn\n",
        "\n",
        "y1 = y(coef, 50, 100000, 600,100000,2)\n",
        "p = np.exp(y1) / (1+np.exp(y1))\n",
        "p"
      ],
      "execution_count": null,
      "outputs": [
        {
          "output_type": "execute_result",
          "data": {
            "text/plain": [
              "0.38230178648352436"
            ]
          },
          "metadata": {
            "tags": []
          },
          "execution_count": 337
        }
      ]
    },
    {
      "cell_type": "markdown",
      "metadata": {
        "id": "7mtA0J-bD8iJ"
      },
      "source": [
        "## Logistic regression using scikit-learn"
      ]
    },
    {
      "cell_type": "code",
      "metadata": {
        "id": "E1VshD6xD8iJ"
      },
      "source": [
        "from sklearn.linear_model import LogisticRegression"
      ],
      "execution_count": null,
      "outputs": []
    },
    {
      "cell_type": "code",
      "metadata": {
        "id": "N2lFcts1D8iL"
      },
      "source": [
        "clf = LogisticRegression(random_state=0, solver='lbfgs').fit(X_train[top5_features], y_train)"
      ],
      "execution_count": null,
      "outputs": []
    },
    {
      "cell_type": "code",
      "metadata": {
        "id": "rYy_QdfwD8iO",
        "outputId": "cf27465c-26ce-4b74-df60-f671e0d98ff8"
      },
      "source": [
        "clf.predict(X_test[top5_features])\n",
        "clf.predict_proba(X_test[top5_features])"
      ],
      "execution_count": null,
      "outputs": [
        {
          "output_type": "execute_result",
          "data": {
            "text/plain": [
              "array([[0.61565033, 0.38434967],\n",
              "       [0.76717157, 0.23282843],\n",
              "       [0.78137389, 0.21862611],\n",
              "       ...,\n",
              "       [0.552548  , 0.447452  ],\n",
              "       [0.85311964, 0.14688036],\n",
              "       [0.75851722, 0.24148278]])"
            ]
          },
          "metadata": {
            "tags": []
          },
          "execution_count": 340
        }
      ]
    },
    {
      "cell_type": "code",
      "metadata": {
        "id": "FrTxCfbED8iP",
        "outputId": "c2704451-ef1f-4fde-b9a1-51efe03ca53c"
      },
      "source": [
        "clf.score(X_test[top5_features], y_test)"
      ],
      "execution_count": null,
      "outputs": [
        {
          "output_type": "execute_result",
          "data": {
            "text/plain": [
              "0.79"
            ]
          },
          "metadata": {
            "tags": []
          },
          "execution_count": 341
        }
      ]
    }
  ]
}